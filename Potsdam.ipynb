{
  "nbformat": 4,
  "nbformat_minor": 0,
  "metadata": {
    "colab": {
      "name": "Potsdam.ipynb",
      "version": "0.3.2",
      "provenance": [],
      "collapsed_sections": [
        "Pe1BGMu07rhx"
      ]
    },
    "kernelspec": {
      "name": "python3",
      "display_name": "Python 3"
    },
    "accelerator": "GPU"
  },
  "cells": [
    {
      "cell_type": "markdown",
      "metadata": {
        "id": "Pe1BGMu07rhx",
        "colab_type": "text"
      },
      "source": [
        "# Training"
      ]
    },
    {
      "cell_type": "code",
      "metadata": {
        "id": "R9dAvKMxg-rf",
        "colab_type": "code",
        "colab": {}
      },
      "source": [
        "import torch\n",
        "import torchvision\n",
        "import numpy as np\n",
        "import matplotlib.pyplot as plt\n",
        "from PIL import Image\n"
      ],
      "execution_count": 0,
      "outputs": []
    },
    {
      "cell_type": "code",
      "metadata": {
        "id": "FFoGvn1qhFZg",
        "colab_type": "code",
        "colab": {}
      },
      "source": [
        "from google.colab import drive\n",
        "drive.mount('/content/gdrive')"
      ],
      "execution_count": 0,
      "outputs": []
    },
    {
      "cell_type": "code",
      "metadata": {
        "id": "57l2SoU64kml",
        "colab_type": "code",
        "colab": {}
      },
      "source": [
        "device = torch.device(\"cuda\")\n",
        "np.random.seed(seed=33)\n",
        "\n",
        "if True:\n",
        "  deeplab_resnet101 = torchvision.models.segmentation.deeplabv3_resnet101(pretrained=True)\n",
        "\n",
        "normalize3 = torchvision.transforms.Normalize(mean=[0.485, 0.456, 0.406], std=[0.229, 0.224, 0.225])\n",
        "normalize1 = torchvision.transforms.Normalize(mean=[0.485], std=[0.229])\n",
        "transforms3 = torchvision.transforms.Compose([torchvision.transforms.ToTensor(), normalize3])\n",
        "transforms1 = torchvision.transforms.Compose([torchvision.transforms.ToTensor(), normalize1])"
      ],
      "execution_count": 0,
      "outputs": []
    },
    {
      "cell_type": "code",
      "metadata": {
        "id": "GZjRkkpf2bfF",
        "colab_type": "code",
        "colab": {}
      },
      "source": [
        "rgb_data = Image.open('/content/gdrive/My Drive/Potsdam/top_potsdam_2_10_RGB.tif')\n",
        "elevation_data = Image.open('/content/gdrive/My Drive/Potsdam/dsm_potsdam_02_10_normalized_lastools.jpg')\n",
        "label_data = Image.open('/content/gdrive/My Drive/Potsdam/top_potsdam_2_10_label.tif')"
      ],
      "execution_count": 0,
      "outputs": []
    },
    {
      "cell_type": "code",
      "metadata": {
        "id": "UsX-81rVklc2",
        "colab_type": "code",
        "colab": {}
      },
      "source": [
        "def transmute_to_classes(window):\n",
        "  # 2 = tree\n",
        "  # 3 = ground\n",
        "  # 4 = clutter\n",
        "  # 1 = building\n",
        "  # 5 = car\n",
        "  # 0 = everything else\n",
        "  retval = (4*(window[:, :, 0]/0xff).astype(np.long) + 2*(window[:, :, 1]/0xff).astype(np.long) + 1*(window[:, :, 2]/0xff).astype(np.long))\n",
        "  retval = retval * (retval < 6)\n",
        "  return retval\n",
        "\n",
        "def random_potsdam_training_window(rgb_data, elevation_data, label_data):\n",
        "  size = 224\n",
        "  x = np.random.randint(0, 6000 - size)\n",
        "  y = np.random.randint(0, 6000 - size)\n",
        "  box = (x, y, x + size, y + size)\n",
        "  rgb_window = rgb_data.crop(box)\n",
        "  elevation_window = elevation_data.crop(box)\n",
        "  labels_window = np.array(label_data.crop(box))\n",
        "  labels_window = transmute_to_classes(labels_window)\n",
        "  return (rgb_window, elevation_window, labels_window)\n",
        "\n",
        "def random_potsdam_training_batch(rgb_ar, elevation_ar, labels_ar):\n",
        "  batch_size = 16\n",
        "  \n",
        "  rgbs = []\n",
        "  elvs = []\n",
        "  labs = []\n",
        "  \n",
        "  for i in range(batch_size):\n",
        "    rgb, elv, lab = random_potsdam_training_window(rgb_ar, elevation_ar, labels_ar)\n",
        "\n",
        "    rgbs.append(transforms3(rgb))\n",
        "    elvs.append(transforms1(elv))\n",
        "    labs.append(torch.unsqueeze(torch.from_numpy(lab), 0))\n",
        "\n",
        "  rgbs = torch.stack(rgbs).to(device)\n",
        "  elvs = torch.stack(elvs).to(device)\n",
        "  labs = torch.cat(labs, dim=0).to(device)\n",
        "\n",
        "  return (rgbs, elvs, labs)\n"
      ],
      "execution_count": 0,
      "outputs": []
    },
    {
      "cell_type": "code",
      "metadata": {
        "id": "CxuoixlP_xfj",
        "colab_type": "code",
        "colab": {}
      },
      "source": [
        "# Reshape Network for 6 Classes\n",
        "\n",
        "last_class = deeplab_resnet101.classifier[4] = torch.nn.Conv2d(256, 6, kernel_size=(1,1), stride=(1,1))\n",
        "last_class_aux = deeplab_resnet101.aux_classifier[4] = torch.nn.Conv2d(256, 6, kernel_size=(1,1), stride=(1,1))\n",
        "\n",
        "deeplab_resnet101 = deeplab_resnet101.to(device)"
      ],
      "execution_count": 0,
      "outputs": []
    },
    {
      "cell_type": "code",
      "metadata": {
        "id": "ZGXkZaGjHlzK",
        "colab_type": "code",
        "colab": {}
      },
      "source": [
        "# Feature Extraction Only\n",
        "\n",
        "if False:\n",
        "  for p in deeplab_resnet101.parameters():\n",
        "    p.requires_grad = False\n",
        "\n",
        "  for p in last_class.parameters():\n",
        "    p.requires_grad = True\n",
        "\n",
        "  for p in last_class_aux.parameters():\n",
        "    p.requires_grad = True\n"
      ],
      "execution_count": 0,
      "outputs": []
    },
    {
      "cell_type": "code",
      "metadata": {
        "id": "7gRf_j1vOg_t",
        "colab_type": "code",
        "colab": {}
      },
      "source": [
        "# Optimizer\n",
        "\n",
        "ps = []\n",
        "for n, p in deeplab_resnet101.named_parameters():\n",
        "  if p.requires_grad == True:\n",
        "    ps.append(p)\n",
        "    \n",
        "opt = torch.optim.SGD(ps, lr=0.01, momentum=0.9)"
      ],
      "execution_count": 0,
      "outputs": []
    },
    {
      "cell_type": "code",
      "metadata": {
        "id": "oZXSgJ5FTwRR",
        "colab_type": "code",
        "colab": {}
      },
      "source": [
        "# Objective Function\n",
        "\n",
        "obj = torch.nn.CrossEntropyLoss().to(device)"
      ],
      "execution_count": 0,
      "outputs": []
    },
    {
      "cell_type": "code",
      "metadata": {
        "id": "2j8PhlmNmZDW",
        "colab_type": "code",
        "colab": {}
      },
      "source": [
        "# Get a Batch\n",
        "\n",
        "if True:\n",
        "  import time\n",
        "\n",
        "  before = time.time()\n",
        "  batch_tensor = random_potsdam_training_batch(rgb_data, elevation_data, label_data)\n",
        "  after = time.time()\n",
        "  print(after - before)"
      ],
      "execution_count": 0,
      "outputs": []
    },
    {
      "cell_type": "code",
      "metadata": {
        "id": "eV7KD0nXweQC",
        "colab_type": "code",
        "colab": {}
      },
      "source": [
        "# Train for One Step\n",
        "\n",
        "if True:\n",
        "  opt.zero_grad()\n",
        "  pred = deeplab_resnet101(batch_tensor[0])\n",
        "  loss = obj(pred.get('out'), batch_tensor[2])\n",
        "  loss.backward()\n",
        "  opt.step()"
      ],
      "execution_count": 0,
      "outputs": []
    },
    {
      "cell_type": "code",
      "metadata": {
        "id": "cTCQgwyx119g",
        "colab_type": "code",
        "outputId": "d2a5c8da-7d01-4f4a-9785-ad20040765e0",
        "colab": {
          "base_uri": "https://localhost:8080/",
          "height": 357
        }
      },
      "source": [
        "# Train\n",
        "\n",
        "import time\n",
        "import math\n",
        "\n",
        "steps_per_epoch_per_image = int((6000 * 6000) / (224 * 224 * 16))\n",
        "epochs = 20\n",
        "\n",
        "deeplab_resnet101.train()\n",
        "for i in range(epochs):\n",
        "  for j in range(steps_per_epoch_per_image):\n",
        "    batch_tensor = random_potsdam_training_batch(rgb_data, elevation_data, label_data)\n",
        "    opt.zero_grad()\n",
        "    pred = deeplab_resnet101(batch_tensor[0])\n",
        "    loss = obj(pred.get('out'), batch_tensor[2]) + 0.4*obj(pred.get('aux'), batch_tensor[2])\n",
        "    loss.backward()\n",
        "    opt.step()\n",
        "  print('epoch={} time={} loss={}'.format(i, time.time(), loss.item()))"
      ],
      "execution_count": 0,
      "outputs": [
        {
          "output_type": "stream",
          "text": [
            "epoch=0 time=1562874983.6363654 loss=0.6757434606552124\n",
            "epoch=1 time=1562875069.6152744 loss=0.504688024520874\n",
            "epoch=2 time=1562875155.5746934 loss=0.4898879826068878\n",
            "epoch=3 time=1562875241.2384515 loss=0.3509546220302582\n",
            "epoch=4 time=1562875327.0958748 loss=0.29970741271972656\n",
            "epoch=5 time=1562875412.991119 loss=0.377235472202301\n",
            "epoch=6 time=1562875498.8401685 loss=0.3496016561985016\n",
            "epoch=7 time=1562875584.7385159 loss=0.19868335127830505\n",
            "epoch=8 time=1562875670.677632 loss=0.19164811074733734\n",
            "epoch=9 time=1562875756.601745 loss=0.29606056213378906\n",
            "epoch=10 time=1562875842.477473 loss=0.28578171133995056\n",
            "epoch=11 time=1562875928.402611 loss=0.2993726134300232\n",
            "epoch=12 time=1562876014.3374288 loss=0.14951224625110626\n",
            "epoch=13 time=1562876100.2066114 loss=0.11831024289131165\n",
            "epoch=14 time=1562876186.108881 loss=0.24582549929618835\n",
            "epoch=15 time=1562876272.0515678 loss=0.12952390313148499\n",
            "epoch=16 time=1562876358.0058775 loss=0.13071653246879578\n",
            "epoch=17 time=1562876443.964641 loss=0.1447247564792633\n",
            "epoch=18 time=1562876529.8421376 loss=0.15054482221603394\n",
            "epoch=19 time=1562876615.6946926 loss=0.12690681219100952\n"
          ],
          "name": "stdout"
        }
      ]
    },
    {
      "cell_type": "markdown",
      "metadata": {
        "colab_type": "text",
        "id": "5DjurAV57nUJ"
      },
      "source": [
        "# Eval"
      ]
    },
    {
      "cell_type": "code",
      "metadata": {
        "id": "6c0XWSaV5G0g",
        "colab_type": "code",
        "colab": {}
      },
      "source": [
        "import torch\n",
        "import torchvision\n",
        "import numpy as np\n",
        "import matplotlib.pyplot as plt\n",
        "from PIL import Image"
      ],
      "execution_count": 0,
      "outputs": []
    },
    {
      "cell_type": "code",
      "metadata": {
        "id": "LDpp0hVy5Kbh",
        "colab_type": "code",
        "colab": {}
      },
      "source": [
        "from google.colab import drive\n",
        "drive.mount('/content/gdrive')"
      ],
      "execution_count": 0,
      "outputs": []
    },
    {
      "cell_type": "code",
      "metadata": {
        "id": "hULWX6kX5NjV",
        "colab_type": "code",
        "colab": {}
      },
      "source": [
        "device = torch.device(\"cuda\")\n",
        "np.random.seed(seed=33)\n",
        "\n",
        "if True:\n",
        "  deeplab_resnet101 = torch.load('/content/gdrive/My Drive/Potsdam/deeplab_resnet101_fe.pth')\n",
        "\n",
        "normalize3 = torchvision.transforms.Normalize(mean=[0.485, 0.456, 0.406], std=[0.229, 0.224, 0.225])\n",
        "normalize1 = torchvision.transforms.Normalize(mean=[0.485], std=[0.229])\n",
        "transforms3 = torchvision.transforms.Compose([torchvision.transforms.ToTensor(), normalize3])\n",
        "transforms1 = torchvision.transforms.Compose([torchvision.transforms.ToTensor(), normalize1])"
      ],
      "execution_count": 0,
      "outputs": []
    },
    {
      "cell_type": "code",
      "metadata": {
        "id": "_B6FirYk5XQZ",
        "colab_type": "code",
        "colab": {}
      },
      "source": [
        "rgb_data = Image.open('/content/gdrive/My Drive/Potsdam/top_potsdam_2_10_RGB.tif')\n",
        "elevation_data = Image.open('/content/gdrive/My Drive/Potsdam/dsm_potsdam_02_10_normalized_lastools.jpg')\n",
        "label_data = Image.open('/content/gdrive/My Drive/Potsdam/top_potsdam_2_10_label.tif')"
      ],
      "execution_count": 0,
      "outputs": []
    },
    {
      "cell_type": "code",
      "metadata": {
        "id": "OjORplA65kMd",
        "colab_type": "code",
        "colab": {}
      },
      "source": [
        "def transmute_to_classes(window):\n",
        "  # 2 = tree\n",
        "  # 3 = ground\n",
        "  # 4 = clutter\n",
        "  # 1 = building\n",
        "  # 5 = car\n",
        "  # 0 = everything else\n",
        "  retval = (4*(window[:, :, 0]/0xff).astype(np.long) + 2*(window[:, :, 1]/0xff).astype(np.long) + 1*(window[:, :, 2]/0xff).astype(np.long))\n",
        "  retval = retval * (retval < 6)\n",
        "  return retval\n",
        "\n",
        "def random_potsdam_training_window(rgb_data, elevation_data, label_data):\n",
        "  size = 224\n",
        "  x = np.random.randint(0, 6000 - size)\n",
        "  y = np.random.randint(0, 6000 - size)\n",
        "  box = (x, y, x + size, y + size)\n",
        "  rgb_window = rgb_data.crop(box)\n",
        "  elevation_window = elevation_data.crop(box)\n",
        "  labels_window = np.array(label_data.crop(box))\n",
        "  labels_window = transmute_to_classes(labels_window)\n",
        "  return (rgb_window, elevation_window, labels_window)\n",
        "\n",
        "def random_potsdam_training_batch(rgb_ar, elevation_ar, labels_ar):\n",
        "  batch_size = 64\n",
        "  \n",
        "  rgbs = []\n",
        "  elvs = []\n",
        "  labs = []\n",
        "  \n",
        "  for i in range(batch_size):\n",
        "    rgb, elv, lab = random_potsdam_training_window(rgb_ar, elevation_ar, labels_ar)\n",
        "\n",
        "    rgbs.append(transforms3(rgb))\n",
        "    elvs.append(transforms1(elv))\n",
        "    labs.append(torch.unsqueeze(torch.from_numpy(lab), 0))\n",
        "\n",
        "  rgbs = torch.stack(rgbs).to(device)\n",
        "  elvs = torch.stack(elvs).to(device)\n",
        "  labs = torch.cat(labs, dim=0).to(device)\n",
        "\n",
        "  return (rgbs, elvs, labs)\n"
      ],
      "execution_count": 0,
      "outputs": []
    },
    {
      "cell_type": "code",
      "metadata": {
        "id": "KT54LFlv5oDY",
        "colab_type": "code",
        "colab": {}
      },
      "source": [
        "# Get a Batch\n",
        "\n",
        "batch_tensor = random_potsdam_training_batch(rgb_data, elevation_data, label_data)\n"
      ],
      "execution_count": 0,
      "outputs": []
    },
    {
      "cell_type": "code",
      "metadata": {
        "id": "SaBKJ-tg5uTq",
        "colab_type": "code",
        "outputId": "46b3919a-a7c5-4c13-b727-da4cf71be66e",
        "colab": {
          "base_uri": "https://localhost:8080/",
          "height": 34
        }
      },
      "source": [
        "deeplab_resnet101.eval()\n",
        "out = deeplab_resnet101(batch_tensor[0])\n",
        "out = out['out'].data.cpu().numpy()\n",
        "out.shape"
      ],
      "execution_count": 0,
      "outputs": [
        {
          "output_type": "execute_result",
          "data": {
            "text/plain": [
              "(16, 6, 224, 224)"
            ]
          },
          "metadata": {
            "tags": []
          },
          "execution_count": 29
        }
      ]
    },
    {
      "cell_type": "code",
      "metadata": {
        "id": "8isfIbI350sO",
        "colab_type": "code",
        "outputId": "bae8746b-ebef-4d29-a1ca-d6f1edd00db6",
        "colab": {
          "base_uri": "https://localhost:8080/",
          "height": 286
        }
      },
      "source": [
        "index = 13\n",
        "predicted_segments = np.apply_along_axis(np.argmax, 0, out[index])\n",
        "plt.imshow(predicted_segments)"
      ],
      "execution_count": 0,
      "outputs": [
        {
          "output_type": "execute_result",
          "data": {
            "text/plain": [
              "<matplotlib.image.AxesImage at 0x7f461e63ab00>"
            ]
          },
          "metadata": {
            "tags": []
          },
          "execution_count": 35
        },
        {
          "output_type": "display_data",
          "data": {
            "image/png": "[encoded data removed]",
            "text/plain": [
              "<Figure size 432x288 with 1 Axes>"
            ]
          },
          "metadata": {
            "tags": []
          }
        }
      ]
    },
    {
      "cell_type": "code",
      "metadata": {
        "id": "3IPL2XtN539n",
        "colab_type": "code",
        "outputId": "88479f11-b54a-483c-d21c-1152d1b5bfe6",
        "colab": {
          "base_uri": "https://localhost:8080/",
          "height": 286
        }
      },
      "source": [
        "groundtruth_segments = batch_tensor[2].data.cpu().numpy()[index]\n",
        "plt.imshow(groundtruth_segments)"
      ],
      "execution_count": 0,
      "outputs": [
        {
          "output_type": "execute_result",
          "data": {
            "text/plain": [
              "<matplotlib.image.AxesImage at 0x7f461e59bac8>"
            ]
          },
          "metadata": {
            "tags": []
          },
          "execution_count": 36
        },
        {
          "output_type": "display_data",
          "data": {
            "image/png": "[encoded data removed]",
            "text/plain": [
              "<Figure size 432x288 with 1 Axes>"
            ]
          },
          "metadata": {
            "tags": []
          }
        }
      ]
    },
    {
      "cell_type": "code",
      "metadata": {
        "id": "cR0MbYZyEmSZ",
        "colab_type": "code",
        "outputId": "4c888ac5-de73-4fd0-fc1d-34c2d1c66c7d",
        "colab": {
          "base_uri": "https://localhost:8080/",
          "height": 286
        }
      },
      "source": [
        "plt.imshow(np.fabs(predicted_segments - groundtruth_segments))"
      ],
      "execution_count": 0,
      "outputs": [
        {
          "output_type": "execute_result",
          "data": {
            "text/plain": [
              "<matplotlib.image.AxesImage at 0x7f461e578940>"
            ]
          },
          "metadata": {
            "tags": []
          },
          "execution_count": 38
        },
        {
          "output_type": "display_data",
          "data": {
            "image/png": "[encoded data removed]",
            "text/plain": [
              "<Figure size 432x288 with 1 Axes>"
            ]
          },
          "metadata": {
            "tags": []
          }
        }
      ]
    },
    {
      "cell_type": "code",
      "metadata": {
        "id": "mj8BT0MGkofE",
        "colab_type": "code",
        "colab": {}
      },
      "source": [
        ""
      ],
      "execution_count": 0,
      "outputs": []
    }
  ]
}