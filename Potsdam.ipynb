{
  "nbformat": 4,
  "nbformat_minor": 0,
  "metadata": {
    "colab": {
      "name": "Potsdam.ipynb",
      "version": "0.3.2",
      "provenance": [],
      "collapsed_sections": []
    },
    "kernelspec": {
      "name": "python3",
      "display_name": "Python 3"
    },
    "accelerator": "GPU"
  },
  "cells": [
    {
      "cell_type": "code",
      "metadata": {
        "id": "R9dAvKMxg-rf",
        "colab_type": "code",
        "colab": {}
      },
      "source": [
        "import torch\n",
        "import torchvision\n",
        "import numpy as np\n",
        "import matplotlib.pyplot as plt\n",
        "from PIL import Image\n"
      ],
      "execution_count": 0,
      "outputs": []
    },
    {
      "cell_type": "code",
      "metadata": {
        "id": "57l2SoU64kml",
        "colab_type": "code",
        "colab": {}
      },
      "source": [
        "device = torch.device(\"cuda\")\n",
        "np.random.seed(seed=33)\n",
        "\n",
        "deeplab_resnet101 = torchvision.models.segmentation.deeplabv3_resnet101(pretrained=True).to(device)\n",
        "\n",
        "normalize3 = torchvision.transforms.Normalize(mean=[0.485, 0.456, 0.406], std=[0.229, 0.224, 0.225])\n",
        "normalize1 = torchvision.transforms.Normalize(mean=[0.485], std=[0.229])\n",
        "transforms3 = torchvision.transforms.Compose([torchvision.transforms.ToTensor(), normalize3])\n",
        "transforms1 = torchvision.transforms.Compose([torchvision.transforms.ToTensor(), normalize1])"
      ],
      "execution_count": 0,
      "outputs": []
    },
    {
      "cell_type": "code",
      "metadata": {
        "id": "FFoGvn1qhFZg",
        "colab_type": "code",
        "outputId": "3b34901f-5686-4871-c60c-c3b983626676",
        "colab": {
          "base_uri": "https://localhost:8080/",
          "height": 34
        }
      },
      "source": [
        "from google.colab import drive\n",
        "drive.mount('/content/gdrive')"
      ],
      "execution_count": 0,
      "outputs": [
        {
          "output_type": "stream",
          "text": [
            "Drive already mounted at /content/gdrive; to attempt to forcibly remount, call drive.mount(\"/content/gdrive\", force_remount=True).\n"
          ],
          "name": "stdout"
        }
      ]
    },
    {
      "cell_type": "code",
      "metadata": {
        "id": "GZjRkkpf2bfF",
        "colab_type": "code",
        "colab": {}
      },
      "source": [
        "rgb_data = Image.open('/content/gdrive/My Drive/Potsdam/top_potsdam_2_10_RGB.tif')\n",
        "elevation_data = Image.open('/content/gdrive/My Drive/Potsdam/dsm_potsdam_02_10_normalized_lastools.jpg')\n",
        "label_data = Image.open('/content/gdrive/My Drive/Potsdam/top_potsdam_2_10_label.tif')"
      ],
      "execution_count": 0,
      "outputs": []
    },
    {
      "cell_type": "code",
      "metadata": {
        "id": "UsX-81rVklc2",
        "colab_type": "code",
        "colab": {}
      },
      "source": [
        "def raw_labels_to_classes(dim):\n",
        "  dim = list(dim)\n",
        "  if dim == [0x00, 0xff, 0x00]:\n",
        "    return 0 # tree\n",
        "  elif dim == [0x00, 0xff, 0xff]:\n",
        "    return 1 # ground\n",
        "  elif dim == [0xff, 0x00, 0x00]:\n",
        "    return 2 # clutter\n",
        "  elif dim == [0x00, 0x00, 0xff]:\n",
        "    return 3 # building\n",
        "  elif dim == [0xff, 0xff, 0x00]:\n",
        "    return 4 # car\n",
        "  else:\n",
        "    return 5 # nothing\n",
        "\n",
        "def transmute_to_classes(window):\n",
        "  # 2 = tree\n",
        "  # 3 = ground\n",
        "  # 4 = clutter\n",
        "  # 1 = building\n",
        "  # 5 = car\n",
        "  # 0 = everything else\n",
        "  retval = (4*(window[:, :, 0]/0xff).astype(np.long) + 2*(window[:, :, 1]/0xff).astype(np.long) + 1*(window[:, :, 2]/0xff).astype(np.long))\n",
        "  retval = retval * (retval < 6)\n",
        "  return retval\n",
        "\n",
        "def random_potsdam_training_window(rgb_data, elevation_data, label_data):\n",
        "  size = 224\n",
        "  x = np.random.randint(0, 6000 - size)\n",
        "  y = np.random.randint(0, 6000 - size)\n",
        "  box = (x, y, x + size, y + size)\n",
        "  rgb_window = rgb_data.crop(box)\n",
        "  elevation_window = elevation_data.crop(box)\n",
        "  labels_window = np.array(label_data.crop(box))\n",
        "  labels_window = transmute_to_classes(labels_window)\n",
        "  return (rgb_window, elevation_window, labels_window)\n",
        "\n",
        "def random_potsdam_training_batch(rgb_ar, elevation_ar, labels_ar):\n",
        "  batch_size = 64\n",
        "  \n",
        "  rgbs = []\n",
        "  elvs = []\n",
        "  labs = []\n",
        "  \n",
        "  for i in range(batch_size):\n",
        "    rgb, elv, lab = random_potsdam_training_window(rgb_ar, elevation_ar, labels_ar)\n",
        "\n",
        "    rgbs.append(transforms3(rgb))\n",
        "    elvs.append(transforms1(elv))\n",
        "    labs.append(torch.unsqueeze(torch.from_numpy(lab), 0))\n",
        "\n",
        "  rgbs = torch.stack(rgbs).to(device)\n",
        "  elvs = torch.stack(elvs).to(device)\n",
        "  labs = torch.cat(labs, dim=0).to(device)\n",
        "\n",
        "  return (rgbs, elvs, labs)\n"
      ],
      "execution_count": 0,
      "outputs": []
    },
    {
      "cell_type": "code",
      "metadata": {
        "id": "CxuoixlP_xfj",
        "colab_type": "code",
        "colab": {}
      },
      "source": [
        "# Reshape Network for 6 Classes\n",
        "\n",
        "last_class = deeplab_resnet101.classifier[4] = torch.nn.Conv2d(256, 6, kernel_size=(1,1), stride=(1,1))\n",
        "last_class_aux = deeplab_resnet101.aux_classifier[4] = torch.nn.Conv2d(256, 6, kernel_size=(1,1), stride=(1,1))\n",
        "\n",
        "deeplab_resnet101 = deeplab_resnet101.to(device)"
      ],
      "execution_count": 0,
      "outputs": []
    },
    {
      "cell_type": "code",
      "metadata": {
        "id": "ZGXkZaGjHlzK",
        "colab_type": "code",
        "colab": {}
      },
      "source": [
        "# Feature Extraction Only\n",
        "\n",
        "for p in deeplab_resnet101.parameters():\n",
        "  p.requires_grad = False\n",
        "\n",
        "for p in last_class.parameters():\n",
        "  p.requires_grad = True\n",
        "\n",
        "for p in last_class_aux.parameters():\n",
        "  p.requires_grad = True\n"
      ],
      "execution_count": 0,
      "outputs": []
    },
    {
      "cell_type": "code",
      "metadata": {
        "id": "7gRf_j1vOg_t",
        "colab_type": "code",
        "colab": {}
      },
      "source": [
        "# Optimizer\n",
        "\n",
        "ps = []\n",
        "for n, p in deeplab_resnet101.named_parameters():\n",
        "  if p.requires_grad == True:\n",
        "    ps.append(p)\n",
        "    \n",
        "opt = torch.optim.SGD(ps, lr=0.01, momentum=0.9)"
      ],
      "execution_count": 0,
      "outputs": []
    },
    {
      "cell_type": "code",
      "metadata": {
        "id": "oZXSgJ5FTwRR",
        "colab_type": "code",
        "colab": {}
      },
      "source": [
        "# Objective Function\n",
        "\n",
        "obj = torch.nn.CrossEntropyLoss().to(device)"
      ],
      "execution_count": 0,
      "outputs": []
    },
    {
      "cell_type": "code",
      "metadata": {
        "id": "2j8PhlmNmZDW",
        "colab_type": "code",
        "colab": {}
      },
      "source": [
        "# Get a Batch\n",
        "\n",
        "if False:\n",
        "  import time\n",
        "\n",
        "  before = time.time()\n",
        "  batch = random_potsdam_training_batch(rgb_data, elevation_data, label_data)\n",
        "  after = time.time()\n",
        "  print(after - before)"
      ],
      "execution_count": 0,
      "outputs": []
    },
    {
      "cell_type": "code",
      "metadata": {
        "id": "eV7KD0nXweQC",
        "colab_type": "code",
        "colab": {}
      },
      "source": [
        "# Train for One Step\n",
        "\n",
        "if False:\n",
        "  opt.zero_grad()\n",
        "  pred = deeplab_resnet101(batch[0])\n",
        "  loss = obj(pred.get('out'), batch[2])\n",
        "  loss.backward()\n",
        "  opt.step()"
      ],
      "execution_count": 0,
      "outputs": []
    },
    {
      "cell_type": "code",
      "metadata": {
        "id": "cTCQgwyx119g",
        "colab_type": "code",
        "outputId": "ee9f3345-670b-471e-ff0b-d55bcd6e9a2e",
        "colab": {
          "base_uri": "https://localhost:8080/",
          "height": 697
        }
      },
      "source": [
        "# Train\n",
        "\n",
        "import time\n",
        "import math\n",
        "\n",
        "steps_per_epoch_per_image = int((6000 * 6000) / (224 * 224 * 64))\n",
        "epochs = 40\n",
        "\n",
        "deeplab_resnet101.train()\n",
        "for i in range(epochs):\n",
        "  for j in range(steps_per_epoch_per_image):\n",
        "    batch_tensor = random_potsdam_training_batch(rgb_data, elevation_data, label_data)\n",
        "    opt.zero_grad()\n",
        "    pred = deeplab_resnet101(batch_tensor[0])\n",
        "    loss = obj(pred.get('out'), batch_tensor[2]) + 0.4*obj(pred.get('aux'), batch_tensor[2])\n",
        "    loss.backward()\n",
        "    opt.step()\n",
        "  print('epoch={} time={} loss={}'.format(i, time.time(), loss.item()))"
      ],
      "execution_count": 0,
      "outputs": [
        {
          "output_type": "stream",
          "text": [
            "epoch=0 time=1562786346.9702828 loss=1.4295002222061157\n",
            "epoch=1 time=1562786365.9169793 loss=1.3570654392242432\n",
            "epoch=2 time=1562786385.0456333 loss=1.5211758613586426\n",
            "epoch=3 time=1562786404.2832434 loss=1.3449227809906006\n",
            "epoch=4 time=1562786423.5869253 loss=1.3626405000686646\n",
            "epoch=5 time=1562786442.9742548 loss=1.3964118957519531\n",
            "epoch=6 time=1562786462.434789 loss=1.2326797246932983\n",
            "epoch=7 time=1562786481.972954 loss=1.372281551361084\n",
            "epoch=8 time=1562786501.6116414 loss=1.3241896629333496\n",
            "epoch=9 time=1562786521.2226014 loss=1.3656468391418457\n",
            "epoch=10 time=1562786540.814618 loss=1.385998010635376\n",
            "epoch=11 time=1562786560.426417 loss=1.4397437572479248\n",
            "epoch=12 time=1562786580.099636 loss=1.5550673007965088\n",
            "epoch=13 time=1562786599.8112655 loss=1.3282606601715088\n",
            "epoch=14 time=1562786619.4793453 loss=1.2202861309051514\n",
            "epoch=15 time=1562786639.1185813 loss=1.3539979457855225\n",
            "epoch=16 time=1562786658.7774892 loss=1.3743699789047241\n",
            "epoch=17 time=1562786678.4336317 loss=1.4707359075546265\n",
            "epoch=18 time=1562786698.1289482 loss=1.371617317199707\n",
            "epoch=19 time=1562786717.7973926 loss=1.4126664400100708\n",
            "epoch=20 time=1562786737.4661756 loss=1.3072426319122314\n",
            "epoch=21 time=1562786757.1531177 loss=1.3489174842834473\n",
            "epoch=22 time=1562786776.8562288 loss=1.38651442527771\n",
            "epoch=23 time=1562786796.534692 loss=1.3307843208312988\n",
            "epoch=24 time=1562786816.2083023 loss=1.3157567977905273\n",
            "epoch=25 time=1562786835.902617 loss=1.3984999656677246\n",
            "epoch=26 time=1562786855.5996392 loss=1.2708226442337036\n",
            "epoch=27 time=1562786875.2860582 loss=1.3580695390701294\n",
            "epoch=28 time=1562786894.9807177 loss=1.3522727489471436\n",
            "epoch=29 time=1562786914.6944773 loss=1.3861933946609497\n",
            "epoch=30 time=1562786934.3637023 loss=1.3977959156036377\n",
            "epoch=31 time=1562786954.0601213 loss=1.3343874216079712\n",
            "epoch=32 time=1562786973.7522006 loss=1.3552871942520142\n",
            "epoch=33 time=1562786993.435528 loss=1.4059293270111084\n",
            "epoch=34 time=1562787013.1233993 loss=1.3675458431243896\n",
            "epoch=35 time=1562787032.8366323 loss=1.4212745428085327\n",
            "epoch=36 time=1562787052.5247474 loss=1.318796992301941\n",
            "epoch=37 time=1562787072.1906452 loss=1.2673687934875488\n",
            "epoch=38 time=1562787091.864796 loss=1.395843744277954\n",
            "epoch=39 time=1562787111.5819538 loss=1.326392650604248\n"
          ],
          "name": "stdout"
        }
      ]
    },
    {
      "cell_type": "markdown",
      "metadata": {
        "id": "-H2nQRJdh_eO",
        "colab_type": "text"
      },
      "source": [
        "---"
      ]
    },
    {
      "cell_type": "code",
      "metadata": {
        "id": "zzx3fxtWEneH",
        "colab_type": "code",
        "outputId": "65332a71-9f9f-422c-fe81-859bf8655a55",
        "colab": {
          "base_uri": "https://localhost:8080/",
          "height": 34
        }
      },
      "source": [
        "deeplab_resnet101.eval()\n",
        "out = deeplab_resnet101(batch_tensor[0])\n",
        "out = out['out'].data.cpu().numpy()\n",
        "out.shape"
      ],
      "execution_count": 0,
      "outputs": [
        {
          "output_type": "execute_result",
          "data": {
            "text/plain": [
              "(64, 6, 224, 224)"
            ]
          },
          "metadata": {
            "tags": []
          },
          "execution_count": 33
        }
      ]
    },
    {
      "cell_type": "code",
      "metadata": {
        "id": "rySt40CYRQxg",
        "colab_type": "code",
        "colab": {}
      },
      "source": [
        "index = 17"
      ],
      "execution_count": 0,
      "outputs": []
    },
    {
      "cell_type": "code",
      "metadata": {
        "id": "Czx1EbvYKQbC",
        "colab_type": "code",
        "outputId": "c5c70ebc-ad4c-49c1-9640-26d0ea738aa7",
        "colab": {
          "base_uri": "https://localhost:8080/",
          "height": 286
        }
      },
      "source": [
        "predicted_segments = np.apply_along_axis(np.argmax, 0, out[index])\n",
        "plt.imshow(predicted_segments)"
      ],
      "execution_count": 0,
      "outputs": [
        {
          "output_type": "execute_result",
          "data": {
            "text/plain": [
              "<matplotlib.image.AxesImage at 0x7fa09c803208>"
            ]
          },
          "metadata": {
            "tags": []
          },
          "execution_count": 44
        },
        {
          "output_type": "display_data",
          "data": {
            "image/png": "[encoded data removed]",
            "text/plain": [
              "<Figure size 432x288 with 1 Axes>"
            ]
          },
          "metadata": {
            "tags": []
          }
        }
      ]
    },
    {
      "cell_type": "code",
      "metadata": {
        "id": "GeeQSp62L2nH",
        "colab_type": "code",
        "outputId": "888b604c-32d2-4083-8785-91e96a4bb7de",
        "colab": {
          "base_uri": "https://localhost:8080/",
          "height": 286
        }
      },
      "source": [
        "groundtruth_segments = batch_tensor[2].data.cpu().numpy()[index]\n",
        "plt.imshow(groundtruth_segments)"
      ],
      "execution_count": 0,
      "outputs": [
        {
          "output_type": "execute_result",
          "data": {
            "text/plain": [
              "<matplotlib.image.AxesImage at 0x7fa09c856898>"
            ]
          },
          "metadata": {
            "tags": []
          },
          "execution_count": 45
        },
        {
          "output_type": "display_data",
          "data": {
            "image/png": "[encoded data removed]",
            "text/plain": [
              "<Figure size 432x288 with 1 Axes>"
            ]
          },
          "metadata": {
            "tags": []
          }
        }
      ]
    },
    {
      "cell_type": "code",
      "metadata": {
        "id": "eBzgE16mMD3K",
        "colab_type": "code",
        "colab": {}
      },
      "source": [
        "torch.save(deeplab_resnet101, '/content/gdrive/My Drive/Potsdam/model')"
      ],
      "execution_count": 0,
      "outputs": []
    },
    {
      "cell_type": "code",
      "metadata": {
        "id": "rPic4s2bd2tf",
        "colab_type": "code",
        "outputId": "130e9c2a-4d9c-41ba-e79f-982d4cba43fd",
        "colab": {
          "base_uri": "https://localhost:8080/",
          "height": 51
        }
      },
      "source": [
        "!ls \"/content/gdrive/My Drive/Potsdam/\"\n"
      ],
      "execution_count": 0,
      "outputs": [
        {
          "output_type": "stream",
          "text": [
            "dsm_potsdam_02_10_normalized_lastools.jpg  top_potsdam_2_10_label.tif\n",
            "model\t\t\t\t\t   top_potsdam_2_10_RGB.tif\n"
          ],
          "name": "stdout"
        }
      ]
    },
    {
      "cell_type": "code",
      "metadata": {
        "id": "gwYfXtjSd-LK",
        "colab_type": "code",
        "colab": {}
      },
      "source": [
        ""
      ],
      "execution_count": 0,
      "outputs": []
    }
  ]
}