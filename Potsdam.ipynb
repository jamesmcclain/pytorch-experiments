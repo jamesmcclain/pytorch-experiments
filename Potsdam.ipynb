{
  "nbformat": 4,
  "nbformat_minor": 0,
  "metadata": {
    "colab": {
      "name": "Potsdam.ipynb",
      "version": "0.3.2",
      "provenance": [],
      "collapsed_sections": [
        "Pe1BGMu07rhx",
        "5DjurAV57nUJ",
        "Bgomb9blewpW"
      ]
    },
    "kernelspec": {
      "name": "python3",
      "display_name": "Python 3"
    },
    "accelerator": "GPU"
  },
  "cells": [
    {
      "cell_type": "markdown",
      "metadata": {
        "id": "Pe1BGMu07rhx",
        "colab_type": "text"
      },
      "source": [
        "# Training"
      ]
    },
    {
      "cell_type": "code",
      "metadata": {
        "id": "R9dAvKMxg-rf",
        "colab_type": "code",
        "colab": {}
      },
      "source": [
        "import torch\n",
        "import torchvision\n",
        "import numpy as np\n",
        "import matplotlib.pyplot as plt\n",
        "from PIL import Image\n"
      ],
      "execution_count": 0,
      "outputs": []
    },
    {
      "cell_type": "code",
      "metadata": {
        "id": "FFoGvn1qhFZg",
        "colab_type": "code",
        "colab": {}
      },
      "source": [
        "from google.colab import drive\n",
        "drive.mount('/content/gdrive')"
      ],
      "execution_count": 0,
      "outputs": []
    },
    {
      "cell_type": "code",
      "metadata": {
        "id": "57l2SoU64kml",
        "colab_type": "code",
        "colab": {}
      },
      "source": [
        "device = torch.device(\"cuda\")\n",
        "np.random.seed(seed=33)\n",
        "\n",
        "if True:\n",
        "  deeplab_resnet101 = torchvision.models.segmentation.deeplabv3_resnet101(pretrained=True)\n",
        "\n",
        "normalize3 = torchvision.transforms.Normalize(mean=[0.485, 0.456, 0.406], std=[0.229, 0.224, 0.225])\n",
        "normalize1 = torchvision.transforms.Normalize(mean=[0.485], std=[0.229])\n",
        "transforms3 = torchvision.transforms.Compose([torchvision.transforms.ToTensor(), normalize3])\n",
        "transforms1 = torchvision.transforms.Compose([torchvision.transforms.ToTensor(), normalize1])"
      ],
      "execution_count": 0,
      "outputs": []
    },
    {
      "cell_type": "code",
      "metadata": {
        "id": "GZjRkkpf2bfF",
        "colab_type": "code",
        "colab": {}
      },
      "source": [
        "rgb_data = Image.open('/content/gdrive/My Drive/Potsdam/top_potsdam_2_10_RGB.tif')\n",
        "elevation_data = Image.open('/content/gdrive/My Drive/Potsdam/dsm_potsdam_02_10_normalized_lastools.jpg')\n",
        "label_data = Image.open('/content/gdrive/My Drive/Potsdam/top_potsdam_2_10_label.tif')"
      ],
      "execution_count": 0,
      "outputs": []
    },
    {
      "cell_type": "code",
      "metadata": {
        "id": "UsX-81rVklc2",
        "colab_type": "code",
        "colab": {}
      },
      "source": [
        "def transmute_to_classes(window):\n",
        "  # 2 = tree\n",
        "  # 3 = ground\n",
        "  # 4 = clutter\n",
        "  # 1 = building\n",
        "  # 5 = car\n",
        "  # 0 = everything else\n",
        "  retval = (4*(window[:, :, 0]/0xff).astype(np.long) + 2*(window[:, :, 1]/0xff).astype(np.long) + 1*(window[:, :, 2]/0xff).astype(np.long))\n",
        "  cars = (retval == 6)\n",
        "  not_cars = (retval != 6)\n",
        "  retval = (retval * not_cars) + 5*cars\n",
        "  retval = retval * (retval < 6)\n",
        "  return retval\n",
        "\n",
        "def random_potsdam_training_window(rgb_data, elevation_data, label_data):\n",
        "  size = 224\n",
        "  x = np.random.randint(0, 6000 - size)\n",
        "  y = np.random.randint(0, 6000 - size)\n",
        "  box = (x, y, x + size, y + size)\n",
        "  rgb_window = rgb_data.crop(box)\n",
        "  elevation_window = elevation_data.crop(box)\n",
        "  labels_window = np.array(label_data.crop(box))\n",
        "  labels_window = transmute_to_classes(labels_window)\n",
        "  return (rgb_window, elevation_window, labels_window)\n",
        "\n",
        "def random_potsdam_training_batch(rgb_ar, elevation_ar, labels_ar):\n",
        "  batch_size = 16\n",
        "  \n",
        "  rgbs = []\n",
        "  elvs = []\n",
        "  labs = []\n",
        "  \n",
        "  for i in range(batch_size):\n",
        "    rgb, elv, lab = random_potsdam_training_window(rgb_ar, elevation_ar, labels_ar)\n",
        "\n",
        "    rgbs.append(transforms3(rgb))\n",
        "    elvs.append(transforms1(elv))\n",
        "    labs.append(torch.unsqueeze(torch.from_numpy(lab), 0))\n",
        "\n",
        "  rgbs = torch.stack(rgbs).to(device)\n",
        "  elvs = torch.stack(elvs).to(device)\n",
        "  labs = torch.cat(labs, dim=0).to(device)\n",
        "\n",
        "  return (rgbs, elvs, labs)\n"
      ],
      "execution_count": 0,
      "outputs": []
    },
    {
      "cell_type": "code",
      "metadata": {
        "id": "CxuoixlP_xfj",
        "colab_type": "code",
        "colab": {}
      },
      "source": [
        "# Reshape Network for 7 Classes\n",
        "\n",
        "last_class = deeplab_resnet101.classifier[4] = torch.nn.Conv2d(256, 7, kernel_size=(1,1), stride=(1,1))\n",
        "last_class_aux = deeplab_resnet101.aux_classifier[4] = torch.nn.Conv2d(256, 7, kernel_size=(1,1), stride=(1,1))\n",
        "\n",
        "deeplab_resnet101 = deeplab_resnet101.to(device)"
      ],
      "execution_count": 0,
      "outputs": []
    },
    {
      "cell_type": "code",
      "metadata": {
        "id": "ZGXkZaGjHlzK",
        "colab_type": "code",
        "colab": {}
      },
      "source": [
        "# Feature Extraction Only\n",
        "\n",
        "if False:\n",
        "  for p in deeplab_resnet101.parameters():\n",
        "    p.requires_grad = False\n",
        "\n",
        "  for p in last_class.parameters():\n",
        "    p.requires_grad = True\n",
        "\n",
        "  for p in last_class_aux.parameters():\n",
        "    p.requires_grad = True\n"
      ],
      "execution_count": 0,
      "outputs": []
    },
    {
      "cell_type": "code",
      "metadata": {
        "id": "7gRf_j1vOg_t",
        "colab_type": "code",
        "colab": {}
      },
      "source": [
        "# Optimizer\n",
        "\n",
        "ps = []\n",
        "for n, p in deeplab_resnet101.named_parameters():\n",
        "  if p.requires_grad == True:\n",
        "    ps.append(p)\n",
        "    \n",
        "opt = torch.optim.SGD(ps, lr=0.01, momentum=0.9)"
      ],
      "execution_count": 0,
      "outputs": []
    },
    {
      "cell_type": "code",
      "metadata": {
        "id": "oZXSgJ5FTwRR",
        "colab_type": "code",
        "colab": {}
      },
      "source": [
        "# Objective Function\n",
        "\n",
        "obj = torch.nn.CrossEntropyLoss().to(device)"
      ],
      "execution_count": 0,
      "outputs": []
    },
    {
      "cell_type": "code",
      "metadata": {
        "id": "2j8PhlmNmZDW",
        "colab_type": "code",
        "colab": {}
      },
      "source": [
        "# Get a Batch\n",
        "\n",
        "if False:\n",
        "  import time\n",
        "\n",
        "  before = time.time()\n",
        "  batch_tensor = random_potsdam_training_batch(rgb_data, elevation_data, label_data)\n",
        "  after = time.time()\n",
        "  print(after - before)"
      ],
      "execution_count": 0,
      "outputs": []
    },
    {
      "cell_type": "code",
      "metadata": {
        "id": "eV7KD0nXweQC",
        "colab_type": "code",
        "colab": {}
      },
      "source": [
        "# Train for One Step\n",
        "\n",
        "if False:\n",
        "  opt.zero_grad()\n",
        "  pred = deeplab_resnet101(batch_tensor[0])\n",
        "  loss = obj(pred.get('out'), batch_tensor[2])\n",
        "  loss.backward()\n",
        "  opt.step()"
      ],
      "execution_count": 0,
      "outputs": []
    },
    {
      "cell_type": "code",
      "metadata": {
        "id": "cTCQgwyx119g",
        "colab_type": "code",
        "colab": {}
      },
      "source": [
        "# Train\n",
        "\n",
        "import time\n",
        "import math\n",
        "\n",
        "steps_per_epoch_per_image = int((6000 * 6000) / (224 * 224 * 16))\n",
        "epochs = 3\n",
        "\n",
        "deeplab_resnet101.train()\n",
        "for i in range(epochs):\n",
        "  for j in range(steps_per_epoch_per_image):\n",
        "    batch_tensor = random_potsdam_training_batch(rgb_data, elevation_data, label_data)\n",
        "    opt.zero_grad()\n",
        "    pred = deeplab_resnet101(batch_tensor[0])\n",
        "    loss = obj(pred.get('out'), batch_tensor[2]) + 0.4*obj(pred.get('aux'), batch_tensor[2])\n",
        "    loss.backward()\n",
        "    opt.step()\n",
        "  print('epoch={} time={} loss={}'.format(i, time.time(), loss.item()))"
      ],
      "execution_count": 0,
      "outputs": []
    },
    {
      "cell_type": "markdown",
      "metadata": {
        "colab_type": "text",
        "id": "5DjurAV57nUJ"
      },
      "source": [
        "# Eval"
      ]
    },
    {
      "cell_type": "code",
      "metadata": {
        "id": "6c0XWSaV5G0g",
        "colab_type": "code",
        "colab": {}
      },
      "source": [
        "import torch\n",
        "import torchvision\n",
        "import numpy as np\n",
        "import matplotlib.pyplot as plt\n",
        "from PIL import Image"
      ],
      "execution_count": 0,
      "outputs": []
    },
    {
      "cell_type": "code",
      "metadata": {
        "id": "LDpp0hVy5Kbh",
        "colab_type": "code",
        "colab": {}
      },
      "source": [
        "from google.colab import drive\n",
        "drive.mount('/content/gdrive')"
      ],
      "execution_count": 0,
      "outputs": []
    },
    {
      "cell_type": "code",
      "metadata": {
        "id": "hULWX6kX5NjV",
        "colab_type": "code",
        "colab": {}
      },
      "source": [
        "device = torch.device(\"cuda\")\n",
        "\n",
        "if True:\n",
        "  deeplab_resnet101 = torch.load('/content/gdrive/My Drive/Potsdam/deeplab_resnet101_cars.pth')\n",
        "\n",
        "normalize3 = torchvision.transforms.Normalize(mean=[0.485, 0.456, 0.406], std=[0.229, 0.224, 0.225])\n",
        "normalize1 = torchvision.transforms.Normalize(mean=[0.485], std=[0.229])\n",
        "transforms3 = torchvision.transforms.Compose([torchvision.transforms.ToTensor(), normalize3])\n",
        "transforms1 = torchvision.transforms.Compose([torchvision.transforms.ToTensor(), normalize1])"
      ],
      "execution_count": 0,
      "outputs": []
    },
    {
      "cell_type": "code",
      "metadata": {
        "id": "_B6FirYk5XQZ",
        "colab_type": "code",
        "colab": {}
      },
      "source": [
        "rgb_data = Image.open('/content/gdrive/My Drive/Potsdam/Validation/top_potsdam_2_12_RGB.tif')\n",
        "elevation_data = Image.open('/content/gdrive/My Drive/Potsdam/Validation/dsm_potsdam_02_12_normalized_lastools.jpg')\n",
        "label_data = Image.open('/content/gdrive/My Drive/Potsdam/Validation/top_potsdam_2_12_label.tif')"
      ],
      "execution_count": 0,
      "outputs": []
    },
    {
      "cell_type": "code",
      "metadata": {
        "id": "OjORplA65kMd",
        "colab_type": "code",
        "colab": {}
      },
      "source": [
        "def transmute_to_classes(window):\n",
        "  # 2 = tree\n",
        "  # 3 = ground\n",
        "  # 4 = clutter\n",
        "  # 1 = building\n",
        "  # 5 = car\n",
        "  # 0 = everything else\n",
        "  retval = (4*(window[:, :, 0]/0xff).astype(np.long) + 2*(window[:, :, 1]/0xff).astype(np.long) + 1*(window[:, :, 2]/0xff).astype(np.long))\n",
        "  cars = (retval == 6)\n",
        "  not_cars = (retval != 6)\n",
        "  retval = (retval * not_cars) + 5*cars\n",
        "  retval = retval * (retval < 6)\n",
        "  return retval\n",
        "\n",
        "def potsdam_eval_window(x, y, rgb_data, elevation_data, label_data):\n",
        "  size = 1000\n",
        "  x = int(x * size)\n",
        "  y = int(y * size)\n",
        "  box = (x, y, x + size, y + size)\n",
        "  rgb_window = rgb_data.crop(box)\n",
        "  elevation_window = elevation_data.crop(box)\n",
        "  labels_window = np.array(label_data.crop(box))\n",
        "  labels_window = transmute_to_classes(labels_window)\n",
        "  return (rgb_window, elevation_window, labels_window)\n",
        "\n",
        "def potsdam_eval_batch(x, y, rgb_ar, elevation_ar, labels_ar):\n",
        "  batch_size = 1\n",
        "  \n",
        "  rgbs = []\n",
        "  elvs = []\n",
        "  labs = []\n",
        "  \n",
        "  for i in range(batch_size):\n",
        "    rgb, elv, lab = potsdam_eval_window(x, y, rgb_ar, elevation_ar, labels_ar)\n",
        "\n",
        "    rgbs.append(transforms3(rgb))\n",
        "    elvs.append(transforms1(elv))\n",
        "    labs.append(torch.unsqueeze(torch.from_numpy(lab), 0))\n",
        "\n",
        "  rgbs = torch.stack(rgbs).to(device)\n",
        "  elvs = torch.stack(elvs).to(device)\n",
        "  labs = torch.cat(labs, dim=0).to(device)\n",
        "\n",
        "  return (rgbs, elvs, labs)\n"
      ],
      "execution_count": 0,
      "outputs": []
    },
    {
      "cell_type": "code",
      "metadata": {
        "id": "KT54LFlv5oDY",
        "colab_type": "code",
        "colab": {}
      },
      "source": [
        "# Get a Batch\n",
        "if True:\n",
        "  batch_tensor = potsdam_eval_batch(2.5, 2.5, rgb_data, elevation_data, label_data)\n"
      ],
      "execution_count": 0,
      "outputs": []
    },
    {
      "cell_type": "code",
      "metadata": {
        "id": "SaBKJ-tg5uTq",
        "colab_type": "code",
        "colab": {}
      },
      "source": [
        "if True:\n",
        "  deeplab_resnet101.eval()\n",
        "  out = deeplab_resnet101(batch_tensor[0])\n",
        "  out = out['out'].data.cpu().numpy()\n",
        "  out.shape"
      ],
      "execution_count": 0,
      "outputs": []
    },
    {
      "cell_type": "code",
      "metadata": {
        "id": "8isfIbI350sO",
        "colab_type": "code",
        "colab": {}
      },
      "source": [
        "if True:\n",
        "  index = 0\n",
        "  predicted_segments = np.apply_along_axis(np.argmax, 0, out[index])\n",
        "  plt.imshow(predicted_segments)"
      ],
      "execution_count": 0,
      "outputs": []
    },
    {
      "cell_type": "code",
      "metadata": {
        "id": "3IPL2XtN539n",
        "colab_type": "code",
        "colab": {}
      },
      "source": [
        "if True:\n",
        "  index = 0\n",
        "  groundtruth_segments = batch_tensor[2].data.cpu().numpy()[index]\n",
        "  plt.imshow(groundtruth_segments)"
      ],
      "execution_count": 0,
      "outputs": []
    },
    {
      "cell_type": "code",
      "metadata": {
        "id": "cR0MbYZyEmSZ",
        "colab_type": "code",
        "colab": {}
      },
      "source": [
        "if True:\n",
        "  plt.imshow(np.fabs(predicted_segments - groundtruth_segments))"
      ],
      "execution_count": 0,
      "outputs": []
    },
    {
      "cell_type": "code",
      "metadata": {
        "id": "mj8BT0MGkofE",
        "colab_type": "code",
        "colab": {}
      },
      "source": [
        "if True:\n",
        "  img = np.transpose((batch_tensor[0][index].cpu().numpy() * 255 + 255), (1, 2, 0)).astype(int)\n",
        "  plt.imshow(img)"
      ],
      "execution_count": 0,
      "outputs": []
    },
    {
      "cell_type": "code",
      "metadata": {
        "id": "crVzJCjs0WGq",
        "colab_type": "code",
        "colab": {}
      },
      "source": [
        "tps = [0.0, 0.0, 0.0, 0.0, 0.0, 0.0]\n",
        "fps = [0.0, 0.0, 0.0, 0.0, 0.0, 0.0]\n",
        "fns = [0.0, 0.0, 0.0, 0.0, 0.0, 0.0]\n",
        "\n",
        "deeplab_resnet101.eval()\n",
        "\n",
        "for x in range(6):\n",
        "  for y in range(6):\n",
        "      batch_tensor = potsdam_eval_batch(x, y, rgb_data, elevation_data, label_data)\n",
        "      out = deeplab_resnet101(batch_tensor[0])\n",
        "      out = out['out'].data.cpu().numpy()\n",
        "      index = 0\n",
        "      predicted_segments = np.apply_along_axis(np.argmax, 0, out[index])\n",
        "      groundtruth_segments = batch_tensor[2].data.cpu().numpy()[index]\n",
        "      for c in range(6):\n",
        "        tps[c] += ((predicted_segments == c) * (groundtruth_segments == c)).sum()\n",
        "        fps[c] += ((predicted_segments == c) * (groundtruth_segments != c)).sum()\n",
        "        fns[c] += ((predicted_segments != c) * (groundtruth_segments == c)).sum()\n",
        "\n",
        "print('True Positives:  {}'.format(tps))\n",
        "print('False Positives: {}'.format(fps))\n",
        "print('False Negatives: {}'.format(fns))"
      ],
      "execution_count": 0,
      "outputs": []
    },
    {
      "cell_type": "code",
      "metadata": {
        "id": "S9PTlcBS959c",
        "colab_type": "code",
        "colab": {}
      },
      "source": [
        "recalls = []\n",
        "precisions = []\n",
        "\n",
        "for c in range(6):\n",
        "  recall = tps[c] / (tps[c] + fns[c])\n",
        "  recalls.append(recall)\n",
        "  precision = tps[c] / (tps[c] + fps[c])\n",
        "  precisions.append(precision)\n",
        "\n",
        "print('Recalls:   {}'.format(recalls))\n",
        "print('Precisions: {}'.format(precisions))"
      ],
      "execution_count": 0,
      "outputs": []
    },
    {
      "cell_type": "code",
      "metadata": {
        "id": "J3b4BYCMAIbT",
        "colab_type": "code",
        "colab": {}
      },
      "source": [
        "names = [\n",
        "    'other         ',\n",
        "    'building      ',\n",
        "    'tree          ',\n",
        "    'low vegetation',\n",
        "    'clutter       ',\n",
        "    'car           '\n",
        "]\n",
        "f1s = []\n",
        "\n",
        "for c in range(6):\n",
        "  f1 = 2 * (precisions[c] * recalls[c]) / (precisions[c] + recalls[c])\n",
        "  f1s.append(f1)\n",
        "  print('{} {}'.format(names[c], f1))\n"
      ],
      "execution_count": 0,
      "outputs": []
    },
    {
      "cell_type": "code",
      "metadata": {
        "id": "46NlowthBEq0",
        "colab_type": "code",
        "colab": {}
      },
      "source": [
        "precision = np.array(tps).sum() / (np.array(tps).sum() + np.array(fps).sum())\n",
        "recall = np.array(tps).sum() / (np.array(tps).sum() + np.array(fns).sum())\n",
        "f1 = 2 * (precision * recall) / (precision + recall)\n",
        "\n",
        "print('Overall Precision: {}'.format(precision))\n",
        "print('Overall Recall:    {}'.format(recall))\n",
        "print('Overall f1:        {}'.format(f1))"
      ],
      "execution_count": 0,
      "outputs": []
    },
    {
      "cell_type": "code",
      "metadata": {
        "id": "vov_OsPYFaol",
        "colab_type": "code",
        "colab": {}
      },
      "source": [
        ""
      ],
      "execution_count": 0,
      "outputs": []
    },
    {
      "cell_type": "markdown",
      "metadata": {
        "id": "Bgomb9blewpW",
        "colab_type": "text"
      },
      "source": [
        "# Elevation"
      ]
    },
    {
      "cell_type": "code",
      "metadata": {
        "id": "cXtFE30Vezvs",
        "colab_type": "code",
        "colab": {}
      },
      "source": [
        "import torch\n",
        "import torchvision\n",
        "import numpy as np\n",
        "import matplotlib.pyplot as plt\n",
        "from PIL import Image"
      ],
      "execution_count": 0,
      "outputs": []
    },
    {
      "cell_type": "code",
      "metadata": {
        "id": "3ZF-QPs6e1CS",
        "colab_type": "code",
        "colab": {}
      },
      "source": [
        "from google.colab import drive\n",
        "drive.mount('/content/gdrive')"
      ],
      "execution_count": 0,
      "outputs": []
    },
    {
      "cell_type": "code",
      "metadata": {
        "id": "x2YKDaQ3e3qe",
        "colab_type": "code",
        "colab": {}
      },
      "source": [
        "device = torch.device(\"cuda\")\n",
        "\n",
        "if True:\n",
        "  deeplab_resnet101 = torch.load('/content/gdrive/My Drive/Potsdam/deeplab_resnet101_rgb.pth')\n",
        "\n",
        "normalize3 = torchvision.transforms.Normalize(mean=[0.485, 0.456, 0.406], std=[0.229, 0.224, 0.225])\n",
        "transforms3 = torchvision.transforms.Compose([torchvision.transforms.ToTensor(), normalize3])\n",
        "transforms1 = torchvision.transforms.Compose([torchvision.transforms.ToTensor()])"
      ],
      "execution_count": 0,
      "outputs": []
    },
    {
      "cell_type": "code",
      "metadata": {
        "id": "Aq52QwK6kR6a",
        "colab_type": "code",
        "colab": {}
      },
      "source": [
        "deeplab_resnet101 = deeplab_resnet101.to(device)"
      ],
      "execution_count": 0,
      "outputs": []
    },
    {
      "cell_type": "code",
      "metadata": {
        "id": "ayWrz9Vhg2jJ",
        "colab_type": "code",
        "colab": {}
      },
      "source": [
        "rgb_data = Image.open('/content/gdrive/My Drive/Potsdam/top_potsdam_2_10_RGB.tif')\n",
        "elevation_data = Image.open('/content/gdrive/My Drive/Potsdam/dsm_potsdam_02_10_normalized_lastools.jpg')\n",
        "label_data = Image.open('/content/gdrive/My Drive/Potsdam/top_potsdam_2_10_label.tif')"
      ],
      "execution_count": 0,
      "outputs": []
    },
    {
      "cell_type": "code",
      "metadata": {
        "id": "1bV3WB1Ng7kj",
        "colab_type": "code",
        "colab": {}
      },
      "source": [
        "def transmute_to_classes(window):\n",
        "  # 2 = tree\n",
        "  # 3 = ground\n",
        "  # 4 = clutter\n",
        "  # 1 = building\n",
        "  # 5 = car\n",
        "  # 0 = everything else\n",
        "  retval = (4*(window[:, :, 0]/0xff).astype(np.long) + 2*(window[:, :, 1]/0xff).astype(np.long) + 1*(window[:, :, 2]/0xff).astype(np.long))\n",
        "  cars = (retval == 6)\n",
        "  not_cars = (retval != 6)\n",
        "  retval = (retval * not_cars) + 5*cars\n",
        "  retval = retval * (retval < 6)\n",
        "  return retval\n",
        "\n",
        "def random_potsdam_training_window(rgb_data, elevation_data, label_data):\n",
        "  size = 224\n",
        "  x = np.random.randint(0, 6000 - size)\n",
        "  y = np.random.randint(0, 6000 - size)\n",
        "  box = (x, y, x + size, y + size)\n",
        "  rgb_window = rgb_data.crop(box)\n",
        "  elevation_window = elevation_data.crop(box)\n",
        "  labels_window = np.array(label_data.crop(box))\n",
        "  labels_window = transmute_to_classes(labels_window)\n",
        "  return (rgb_window, elevation_window, labels_window)\n",
        "\n",
        "def random_potsdam_training_batch(rgb_ar, elevation_ar, labels_ar):\n",
        "  batch_size = 16\n",
        "  \n",
        "  rgbs = []\n",
        "  elvs = []\n",
        "  labs = []\n",
        "  \n",
        "  for i in range(batch_size):\n",
        "    rgb, elv, lab = random_potsdam_training_window(rgb_ar, elevation_ar, labels_ar)\n",
        "\n",
        "    rgbs.append(transforms3(rgb))\n",
        "    elvs.append(transforms1(elv))\n",
        "    labs.append(torch.unsqueeze(torch.from_numpy(lab), 0))\n",
        "\n",
        "  rgbs = torch.stack(rgbs).to(device)\n",
        "  elvs = torch.stack(elvs).to(device)\n",
        "  labs = torch.cat(labs, dim=0).to(device)\n",
        "\n",
        "  return (rgbs, elvs, labs)\n"
      ],
      "execution_count": 0,
      "outputs": []
    },
    {
      "cell_type": "code",
      "metadata": {
        "id": "vk_VAM8ihJKl",
        "colab_type": "code",
        "colab": {}
      },
      "source": [
        "# One input channel\n",
        "\n",
        "input_filters = deeplab_resnet101.backbone.conv1 = torch.nn.Conv2d(1, 64, kernel_size=(7,7), stride=(2,2), padding=(3,3), bias=False).to(device)"
      ],
      "execution_count": 0,
      "outputs": []
    },
    {
      "cell_type": "code",
      "metadata": {
        "id": "f89eRaIkjPcK",
        "colab_type": "code",
        "colab": {}
      },
      "source": [
        "# Train only the input filters\n",
        "\n",
        "if True:\n",
        "  for p in deeplab_resnet101.parameters():\n",
        "    p.requires_grad = False\n",
        "\n",
        "  for p in input_filters.parameters():\n",
        "    p.requires_grad = True\n"
      ],
      "execution_count": 0,
      "outputs": []
    },
    {
      "cell_type": "code",
      "metadata": {
        "id": "1k4ahlzHjw2q",
        "colab_type": "code",
        "colab": {}
      },
      "source": [
        "# Optimizer\n",
        "\n",
        "ps = []\n",
        "for n, p in deeplab_resnet101.named_parameters():\n",
        "  if p.requires_grad == True:\n",
        "    ps.append(p)\n",
        "    \n",
        "opt = torch.optim.SGD(ps, lr=0.001, momentum=0.9)"
      ],
      "execution_count": 0,
      "outputs": []
    },
    {
      "cell_type": "code",
      "metadata": {
        "id": "CYdo0l4jj5Gq",
        "colab_type": "code",
        "colab": {}
      },
      "source": [
        "# Objective Function\n",
        "\n",
        "obj = torch.nn.CrossEntropyLoss().to(device)"
      ],
      "execution_count": 0,
      "outputs": []
    },
    {
      "cell_type": "code",
      "metadata": {
        "id": "SCqRYWu7j-iQ",
        "colab_type": "code",
        "colab": {}
      },
      "source": [
        "# Train\n",
        "\n",
        "import time\n",
        "import math\n",
        "\n",
        "steps_per_epoch_per_image = int((6000 * 6000) / (224 * 224 * 16))\n",
        "epochs = 3\n",
        "\n",
        "deeplab_resnet101.train()\n",
        "for i in range(epochs):\n",
        "  for j in range(steps_per_epoch_per_image):\n",
        "    batch_tensor = random_potsdam_training_batch(rgb_data, elevation_data, label_data)\n",
        "    opt.zero_grad()\n",
        "    pred = deeplab_resnet101(batch_tensor[1])\n",
        "    loss = obj(pred.get('out'), batch_tensor[2]) + 0.4*obj(pred.get('aux'), batch_tensor[2])\n",
        "    loss.backward()\n",
        "    opt.step()\n",
        "  print('epoch={} time={} loss={}'.format(i, time.time(), loss.item()))"
      ],
      "execution_count": 0,
      "outputs": []
    },
    {
      "cell_type": "code",
      "metadata": {
        "id": "P0I2ydEFkE9X",
        "colab_type": "code",
        "colab": {}
      },
      "source": [
        "torch.cat([input_filters.weight.data, input_filters.weight.data], dim=1).shape"
      ],
      "execution_count": 0,
      "outputs": []
    },
    {
      "cell_type": "code",
      "metadata": {
        "id": "ESmzuGufQjPU",
        "colab_type": "code",
        "colab": {}
      },
      "source": [
        "input_filters.weight.data.shape"
      ],
      "execution_count": 0,
      "outputs": []
    },
    {
      "cell_type": "code",
      "metadata": {
        "id": "7gFIXhLV0rK7",
        "colab_type": "code",
        "colab": {}
      },
      "source": [
        "batch_tensor = random_potsdam_training_batch(rgb_data, elevation_data, label_data)"
      ],
      "execution_count": 0,
      "outputs": []
    },
    {
      "cell_type": "code",
      "metadata": {
        "id": "7myclzup0xZq",
        "colab_type": "code",
        "colab": {}
      },
      "source": [
        "batch_tensor[1].shape"
      ],
      "execution_count": 0,
      "outputs": []
    },
    {
      "cell_type": "code",
      "metadata": {
        "id": "gcD1w5YX6K3s",
        "colab_type": "code",
        "colab": {}
      },
      "source": [
        "torch.cat([batch_tensor[0], batch_tensor[1]], dim=1).shape"
      ],
      "execution_count": 0,
      "outputs": []
    },
    {
      "cell_type": "markdown",
      "metadata": {
        "id": "uLw-LEfbpi5E",
        "colab_type": "text"
      },
      "source": [
        "# Elevation Filters"
      ]
    },
    {
      "cell_type": "code",
      "metadata": {
        "id": "aEOEauVgpk8c",
        "colab_type": "code",
        "colab": {}
      },
      "source": [
        "import torch\n",
        "import torchvision\n",
        "import numpy as np\n",
        "import matplotlib.pyplot as plt\n",
        "from PIL import Image"
      ],
      "execution_count": 0,
      "outputs": []
    },
    {
      "cell_type": "code",
      "metadata": {
        "id": "G7lHcTLUpl2E",
        "colab_type": "code",
        "colab": {}
      },
      "source": [
        "from google.colab import drive\n",
        "drive.mount('/content/gdrive')"
      ],
      "execution_count": 0,
      "outputs": []
    },
    {
      "cell_type": "code",
      "metadata": {
        "id": "RSRS5L94poFl",
        "colab_type": "code",
        "colab": {}
      },
      "source": [
        "\n",
        "deeplab_rgb = torch.load('/content/gdrive/My Drive/Potsdam/deeplab_resnet101_rgb.pth').cpu()\n",
        "deeplab_elevation = torch.load('/content/gdrive/My Drive/Potsdam/deeplab_resnet101_elevation.pth').cpu()\n",
        "deeplab_elevation_filters = torch.load('/content/gdrive/My Drive/Potsdam/deeplab_resnet101_elevation_filters.pth').cpu()\n"
      ],
      "execution_count": 0,
      "outputs": []
    },
    {
      "cell_type": "code",
      "metadata": {
        "id": "kMbR25Ezqpnk",
        "colab_type": "code",
        "colab": {}
      },
      "source": [
        "grid = torchvision.utils.make_grid(deeplab_rgb.backbone.conv1.weight.data.cpu(), normalize=True, scale_each=True).permute(1, 2, 0)\n",
        "plt.figure(figsize=(14, 14))\n",
        "plt.imshow(grid)\n",
        "plt.show()"
      ],
      "execution_count": 0,
      "outputs": []
    },
    {
      "cell_type": "code",
      "metadata": {
        "id": "JCnyTooIwJRQ",
        "colab_type": "code",
        "colab": {}
      },
      "source": [
        "grid = torchvision.utils.make_grid(deeplab_elevation.backbone.conv1.weight.data.cpu(), normalize=True, scale_each=True).permute(1, 2, 0)\n",
        "plt.figure(figsize=(14, 14))\n",
        "plt.imshow(grid)\n",
        "plt.show()"
      ],
      "execution_count": 0,
      "outputs": []
    },
    {
      "cell_type": "code",
      "metadata": {
        "id": "pZhKMNi9wO8K",
        "colab_type": "code",
        "colab": {}
      },
      "source": [
        "grid = torchvision.utils.make_grid(deeplab_elevation_filters.backbone.conv1.weight.data.cpu(), normalize=True, scale_each=True).permute(1, 2, 0)\n",
        "plt.figure(figsize=(14, 14))\n",
        "plt.imshow(grid)\n",
        "plt.show()"
      ],
      "execution_count": 0,
      "outputs": []
    },
    {
      "cell_type": "code",
      "metadata": {
        "id": "mRKEk37Pb-Fz",
        "colab_type": "code",
        "colab": {}
      },
      "source": [
        ""
      ],
      "execution_count": 0,
      "outputs": []
    }
  ]
}